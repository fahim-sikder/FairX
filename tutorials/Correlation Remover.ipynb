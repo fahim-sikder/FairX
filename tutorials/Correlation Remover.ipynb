{
 "cells": [
  {
   "cell_type": "markdown",
   "id": "230932c5-562e-4cba-96b3-a213d3729550",
   "metadata": {},
   "source": [
    "# Correlation Remover"
   ]
  },
  {
   "cell_type": "code",
   "execution_count": 1,
   "id": "50b53411-332e-41f1-9fa2-b852b8b7ab10",
   "metadata": {},
   "outputs": [
    {
     "name": "stderr",
     "output_type": "stream",
     "text": [
      "IProgress not found. Please update jupyter and ipywidgets. See https://ipywidgets.readthedocs.io/en/stable/user_install.html\n"
     ]
    }
   ],
   "source": [
    "from fairx.dataset import BaseDataClass\n",
    "from fairx.models.preprocessing import CorrRemover"
   ]
  },
  {
   "cell_type": "code",
   "execution_count": 2,
   "id": "f04de960-66dc-4046-bc73-7d8b6c7fd393",
   "metadata": {},
   "outputs": [],
   "source": [
    "dataset_name = 'Compass'\n",
    "sensitive_attr = 'race_African-American'"
   ]
  },
  {
   "cell_type": "code",
   "execution_count": 3,
   "id": "bd7fe692-e17e-43c3-9c8d-18c86697c9d1",
   "metadata": {},
   "outputs": [
    {
     "name": "stdout",
     "output_type": "stream",
     "text": [
      "Data loading complete\n"
     ]
    }
   ],
   "source": [
    "ori_data_module = BaseDataClass(dataset_name, sensitive_attr, True)"
   ]
  },
  {
   "cell_type": "code",
   "execution_count": 4,
   "id": "880c5e12-47e8-4b4b-81e0-f2e602252a74",
   "metadata": {},
   "outputs": [],
   "source": [
    "corr = CorrRemover(ori_data_module, sensitive_attr)"
   ]
  },
  {
   "cell_type": "code",
   "execution_count": 5,
   "id": "59bc13d9-b1f9-47db-a3d8-c15da12e3496",
   "metadata": {},
   "outputs": [],
   "source": [
    "repaired_dataset, result = corr.fit()"
   ]
  },
  {
   "cell_type": "code",
   "execution_count": 6,
   "id": "4bb5355d-26b8-452c-89c7-e7bd76c8917f",
   "metadata": {},
   "outputs": [
    {
     "name": "stdout",
     "output_type": "stream",
     "text": [
      "{'Methods': 'Correlation Remover', 'Precision': 0.6443057722308893, 'Recall': 0.5543624161073826, 'Accuracy': 0.6464646464646465, 'F1 Score': 0.595959595959596, 'Auroc': 0.6413051651454671, 'demo parity ratio': 0.5849668964575796, 'Equalized Odd': 0.6283087210922261}\n"
     ]
    }
   ],
   "source": [
    "print(result)"
   ]
  }
 ],
 "metadata": {
  "kernelspec": {
   "display_name": "Python 3 (ipykernel)",
   "language": "python",
   "name": "python3"
  },
  "language_info": {
   "codemirror_mode": {
    "name": "ipython",
    "version": 3
   },
   "file_extension": ".py",
   "mimetype": "text/x-python",
   "name": "python",
   "nbconvert_exporter": "python",
   "pygments_lexer": "ipython3",
   "version": "3.8.19"
  }
 },
 "nbformat": 4,
 "nbformat_minor": 5
}
