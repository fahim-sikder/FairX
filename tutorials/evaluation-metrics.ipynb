{
 "cells": [
  {
   "cell_type": "markdown",
   "id": "eb25ee6a-c64b-4295-b0aa-226a86896a8d",
   "metadata": {},
   "source": [
    "# Evaluation Metrics"
   ]
  },
  {
   "cell_type": "code",
   "execution_count": 1,
   "id": "88580580-9790-43a2-b012-50141b89ba03",
   "metadata": {},
   "outputs": [
    {
     "name": "stderr",
     "output_type": "stream",
     "text": [
      "IProgress not found. Please update jupyter and ipywidgets. See https://ipywidgets.readthedocs.io/en/stable/user_install.html\n"
     ]
    }
   ],
   "source": [
    "from fairx.dataset import BaseDataClass\n",
    "from fairx.metrics import FairnessUtils, DataUtilsMetrics"
   ]
  },
  {
   "cell_type": "code",
   "execution_count": 2,
   "id": "e75ca798-b3a4-4bbf-b8ed-ddcc7eaeefd3",
   "metadata": {},
   "outputs": [],
   "source": [
    "dataset_name = 'Adult-Income'\n",
    "sensitive_attr = 'sex'\n",
    "attach_target = False"
   ]
  },
  {
   "cell_type": "code",
   "execution_count": 3,
   "id": "abc7f240-e148-49ef-9c03-76a7cdd8deef",
   "metadata": {},
   "outputs": [
    {
     "name": "stdout",
     "output_type": "stream",
     "text": [
      "Data loading complete\n",
      "Target attribute: class\n"
     ]
    }
   ],
   "source": [
    "data_module = BaseDataClass(dataset_name, sensitive_attr, attach_target = attach_target)"
   ]
  },
  {
   "cell_type": "code",
   "execution_count": 4,
   "id": "79c9d079-136d-4b81-9718-e9fe7c9296f7",
   "metadata": {},
   "outputs": [],
   "source": [
    "_, _, tf_data = data_module.preprocess_data()"
   ]
  },
  {
   "cell_type": "code",
   "execution_count": 5,
   "id": "548f7606-fd26-4768-b3d6-772a78f11cf0",
   "metadata": {},
   "outputs": [],
   "source": [
    "splitted_data = data_module.split_data(tf_data)"
   ]
  },
  {
   "cell_type": "markdown",
   "id": "634ea41f-bf83-46e1-a7a9-fea937b71e5d",
   "metadata": {},
   "source": [
    "## Data Utility Evaluation"
   ]
  },
  {
   "cell_type": "code",
   "execution_count": 6,
   "id": "4f149e93-cae8-4188-b71d-c6fa1e5be739",
   "metadata": {},
   "outputs": [],
   "source": [
    "data_utils = DataUtilsMetrics(splitted_data)"
   ]
  },
  {
   "cell_type": "code",
   "execution_count": 7,
   "id": "574261a0-136d-4040-9924-0a5d2cba9cfb",
   "metadata": {},
   "outputs": [],
   "source": [
    "utils_res = data_utils.evaluate_utility()"
   ]
  },
  {
   "cell_type": "code",
   "execution_count": 8,
   "id": "73247d8a-7155-4db1-aad0-bedd973d388e",
   "metadata": {},
   "outputs": [
    {
     "name": "stdout",
     "output_type": "stream",
     "text": [
      "{'Precision': 0.7895805142083897, 'Recall': 0.6657159155733029, 'Accuracy': 0.8775677335699175, 'F1 Score': 0.7223769730733519, 'Auroc': 0.8049580744099583}\n"
     ]
    }
   ],
   "source": [
    "print(utils_res)"
   ]
  },
  {
   "cell_type": "markdown",
   "id": "6686c068-c2fb-44aa-9b2e-2e3a4a9fcb36",
   "metadata": {},
   "source": [
    "## Fairness Evaluation"
   ]
  },
  {
   "cell_type": "code",
   "execution_count": 9,
   "id": "910de1f3-6c84-43c1-a501-019b4604d211",
   "metadata": {},
   "outputs": [],
   "source": [
    "fairness_eval = FairnessUtils(splitted_data)"
   ]
  },
  {
   "cell_type": "code",
   "execution_count": 10,
   "id": "453136f1-5fb7-4be1-a41b-0b8346b54c44",
   "metadata": {},
   "outputs": [],
   "source": [
    "fairness_res = fairness_eval.evaluate_fairness()"
   ]
  },
  {
   "cell_type": "code",
   "execution_count": 11,
   "id": "30c5bb4e-9a7c-410d-b69a-ba1fb52b1936",
   "metadata": {},
   "outputs": [
    {
     "name": "stdout",
     "output_type": "stream",
     "text": [
      "{'Demographic Parity Ratio': 0.3238732176849978, 'Equalized Odd Ratio': 0.23131379777773212}\n"
     ]
    }
   ],
   "source": [
    "print(fairness_res)"
   ]
  },
  {
   "cell_type": "code",
   "execution_count": null,
   "id": "19cee50b-b195-4668-b82c-a46d3002960e",
   "metadata": {},
   "outputs": [],
   "source": []
  }
 ],
 "metadata": {
  "kernelspec": {
   "display_name": "Python 3 (ipykernel)",
   "language": "python",
   "name": "python3"
  },
  "language_info": {
   "codemirror_mode": {
    "name": "ipython",
    "version": 3
   },
   "file_extension": ".py",
   "mimetype": "text/x-python",
   "name": "python",
   "nbconvert_exporter": "python",
   "pygments_lexer": "ipython3",
   "version": "3.8.19"
  }
 },
 "nbformat": 4,
 "nbformat_minor": 5
}
