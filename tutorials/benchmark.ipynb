{
 "cells": [
  {
   "cell_type": "markdown",
   "id": "c20a4209-4450-434a-892e-b01d3058c4a4",
   "metadata": {},
   "source": [
    "# Benchmarking Tutorial\n",
    "\n",
    "Work in progress!"
   ]
  },
  {
   "cell_type": "code",
   "execution_count": 1,
   "id": "48a822d4-f595-4a32-b00e-d24c704b695c",
   "metadata": {},
   "outputs": [
    {
     "name": "stderr",
     "output_type": "stream",
     "text": [
      "IProgress not found. Please update jupyter and ipywidgets. See https://ipywidgets.readthedocs.io/en/stable/user_install.html\n"
     ]
    }
   ],
   "source": [
    "from fairx.dataset import BaseDataClass, CustomDataClass\n",
    "\n",
    "from fairx.models.preprocessing import CorrRemover\n",
    "from fairx.models.postprocessing import ThresholdAlgorithm\n",
    "from fairx.models.inprocessing import TabFairGAN, Decaf, FairDisco\n",
    "from fairx.utils import add_dict_result\n",
    "\n",
    "from fairx.metrics.synthetic import SyntheticEvaluation\n",
    "\n",
    "import warnings\n",
    "warnings.filterwarnings('ignore')"
   ]
  },
  {
   "cell_type": "markdown",
   "id": "54341b77-4db5-405d-99fa-46d2450dba6a",
   "metadata": {},
   "source": [
    "## Dataset Loading"
   ]
  },
  {
   "cell_type": "code",
   "execution_count": 2,
   "id": "499779c7-f5e5-4007-90a8-e1622401ade6",
   "metadata": {},
   "outputs": [],
   "source": [
    "dataset_name = 'Compass'\n",
    "sensitive_attr = 'race_African-American'\n",
    "attach_target = True"
   ]
  },
  {
   "cell_type": "code",
   "execution_count": 3,
   "id": "7ec69e46-73aa-49a6-bb93-587ae9254c7b",
   "metadata": {},
   "outputs": [
    {
     "name": "stdout",
     "output_type": "stream",
     "text": [
      "Data loading complete\n"
     ]
    }
   ],
   "source": [
    "ori_data_module = BaseDataClass(dataset_name, sensitive_attr, attach_target = attach_target)"
   ]
  },
  {
   "cell_type": "code",
   "execution_count": 4,
   "id": "c2e31dd8-1587-4fa7-a582-40c5df4440cc",
   "metadata": {},
   "outputs": [],
   "source": [
    "res_dict = {\n",
    "\n",
    "    'Methods': [],\n",
    "    'Precision': [],\n",
    "    'Recall': [],\n",
    "    'Accuracy': [],\n",
    "    'F1 Score': [],\n",
    "    'Auroc': [],\n",
    "    'Demographic Parity Ratio': [],\n",
    "    'Equalized Odd Ratio': [],\n",
    "    'Alpha-Precision': [],\n",
    "    'Beta-Recall': [],\n",
    "    'Authenticity': []\n",
    "}"
   ]
  },
  {
   "cell_type": "markdown",
   "id": "b59b173c-fd98-42b9-af19-1c2fdcaf051a",
   "metadata": {},
   "source": [
    "## Pre-processing: Correlation Remover"
   ]
  },
  {
   "cell_type": "code",
   "execution_count": 5,
   "id": "edf3b4dc-f048-4d01-b1a7-8bc063f94c5b",
   "metadata": {},
   "outputs": [],
   "source": [
    "corr = CorrRemover(ori_data_module, sensitive_attr)"
   ]
  },
  {
   "cell_type": "code",
   "execution_count": 6,
   "id": "f3caa40e-f753-4166-86b0-0dec40cd77c0",
   "metadata": {},
   "outputs": [],
   "source": [
    "repaired_dataset, result = corr.fit()"
   ]
  },
  {
   "cell_type": "code",
   "execution_count": 7,
   "id": "76b46130-1133-4675-926e-909f2a8e78f4",
   "metadata": {},
   "outputs": [
    {
     "name": "stdout",
     "output_type": "stream",
     "text": [
      "{'Methods': 'Correlation Remover', 'Precision': 0.6443057722308893, 'Recall': 0.5543624161073826, 'Accuracy': 0.6464646464646465, 'F1 Score': 0.595959595959596, 'Auroc': 0.6413051651454671, 'Demographic Parity Ratio': 0.5849668964575796, 'Equalized Odd Ratio': 0.6283087210922261}\n"
     ]
    }
   ],
   "source": [
    "print(result)"
   ]
  },
  {
   "cell_type": "markdown",
   "id": "a0012530-c3af-408f-97a4-42685c87beec",
   "metadata": {},
   "source": [
    "## Post-processing: Threshold Optimizer"
   ]
  },
  {
   "cell_type": "code",
   "execution_count": 8,
   "id": "0306e8ab-4aaa-40f5-afd6-3456682ba0d6",
   "metadata": {},
   "outputs": [],
   "source": [
    "threshold = ThresholdAlgorithm(ori_data_module)"
   ]
  },
  {
   "cell_type": "code",
   "execution_count": 9,
   "id": "18d1efd7-e272-417e-8f02-8960d6ea26d8",
   "metadata": {},
   "outputs": [],
   "source": [
    "res = threshold.fit()"
   ]
  },
  {
   "cell_type": "code",
   "execution_count": 10,
   "id": "5d8ef821-0106-43d1-a583-8faa92ff408a",
   "metadata": {},
   "outputs": [
    {
     "name": "stdout",
     "output_type": "stream",
     "text": [
      "{'Methods': 'Threshold Optimizer', 'Precision': 0.6519083969465649, 'Recall': 0.5731543624161074, 'Accuracy': 0.6553030303030303, 'F1 Score': 0.6100000000000001, 'Auroc': 0.6507011382998297, 'Demographic Parity Ratio': 0.9823600464929008, 'Equalized Odd Ratio': 0.7612818835840418}\n"
     ]
    }
   ],
   "source": [
    "print(res)"
   ]
  },
  {
   "cell_type": "markdown",
   "id": "947a2054-e3ed-44fc-bc93-cc7ef0321325",
   "metadata": {},
   "source": [
    "## In-processing: Decaf"
   ]
  },
  {
   "cell_type": "code",
   "execution_count": 11,
   "id": "e6064336-ddab-437b-8899-4c5d836a2328",
   "metadata": {},
   "outputs": [
    {
     "name": "stdout",
     "output_type": "stream",
     "text": [
      "Training Started\n"
     ]
    },
    {
     "name": "stderr",
     "output_type": "stream",
     "text": [
      "100%|███████████████████████████████████████| 1000/1000 [04:28<00:00,  3.72it/s]\n",
      "INFO:pytorch_lightning.utilities.rank_zero:GPU available: True (cuda), used: True\n",
      "INFO:pytorch_lightning.utilities.rank_zero:TPU available: False, using: 0 TPU cores\n",
      "INFO:pytorch_lightning.utilities.rank_zero:IPU available: False, using: 0 IPUs\n",
      "INFO:pytorch_lightning.utilities.rank_zero:HPU available: False, using: 0 HPUs\n",
      "INFO:pytorch_lightning.utilities.rank_zero:You are using a CUDA device ('NVIDIA GeForce RTX 3090 Ti') that has Tensor Cores. To properly utilize them, you should set `torch.set_float32_matmul_precision('medium' | 'high')` which will trade-off precision for performance. For more details, read https://pytorch.org/docs/stable/generated/torch.set_float32_matmul_precision.html#torch.set_float32_matmul_precision\n",
      "INFO:pytorch_lightning.accelerators.cuda:LOCAL_RANK: 0 - CUDA_VISIBLE_DEVICES: [0]\n",
      "INFO:pytorch_lightning.callbacks.model_summary:\n",
      "  | Name          | Type             | Params\n",
      "---------------------------------------------------\n",
      "0 | generator     | Generator_causal | 2.8 M \n",
      "1 | discriminator | Discriminator    | 284 K \n",
      "---------------------------------------------------\n",
      "3.1 M     Trainable params\n",
      "4.4 K     Non-trainable params\n",
      "3.1 M     Total params\n",
      "12.268    Total estimated model params size (MB)\n"
     ]
    },
    {
     "name": "stdout",
     "output_type": "stream",
     "text": [
      "Epoch 9: 100%|█████████████████████| 66/66 [00:05<00:00, 12.46it/s, loss=-0.145]"
     ]
    },
    {
     "name": "stderr",
     "output_type": "stream",
     "text": [
      "INFO:pytorch_lightning.utilities.rank_zero:`Trainer.fit` stopped: `max_epochs=10` reached.\n"
     ]
    },
    {
     "name": "stdout",
     "output_type": "stream",
     "text": [
      "Epoch 9: 100%|█████████████████████| 66/66 [00:05<00:00, 12.23it/s, loss=-0.145]\n",
      "Data loading complete\n",
      "(1000, 14)\n",
      "(1000, 14)\n",
      "{'Alpha-Precision': 0.19940000000000013, 'Beta-Recall': 0.002066666666666772, 'Authenticity': 1.0}\n",
      "Training Completed\n",
      "Generated Sample Saved\n"
     ]
    }
   ],
   "source": [
    "decaf = Decaf(ori_data_module, batch_size = 256, n_iter = 10, generated_sample_size = 1000)\n",
    "\n",
    "model = decaf.fit()"
   ]
  },
  {
   "cell_type": "markdown",
   "id": "d3bc1664-549b-453b-b65b-91a153f1e871",
   "metadata": {},
   "source": [
    "## In-processing: TabFairGAN"
   ]
  },
  {
   "cell_type": "code",
   "execution_count": 12,
   "id": "89b50d68-8ebb-4366-b1ca-6ab73c6c27cf",
   "metadata": {},
   "outputs": [],
   "source": [
    "under_prev = 0\n",
    "y_desire = 1"
   ]
  },
  {
   "cell_type": "code",
   "execution_count": 13,
   "id": "e5ecdce1-afd9-4b9e-9a0c-68431f439e08",
   "metadata": {},
   "outputs": [
    {
     "name": "stdout",
     "output_type": "stream",
     "text": [
      "epoch 1\n",
      "training for fairness\n",
      "epoch 2\n",
      "training for fairness\n",
      "epoch 3\n",
      "training for fairness\n",
      "epoch 4\n",
      "training for fairness\n",
      "epoch 5\n",
      "training for fairness\n",
      "Training Complete!\n",
      "Data loading complete\n",
      "(5278, 14)\n",
      "(5278, 14)\n",
      "{'Alpha-Precision': 0.02936718453959819, 'Beta-Recall': 0.0009852216748769127, 'Authenticity': 1.0}\n",
      "generated data saved!\n"
     ]
    }
   ],
   "source": [
    "tabfairgan = TabFairGAN(under_prev, y_desire)\n",
    "\n",
    "tabfairgan.fit(ori_data_module, batch_size = 256, epochs = 5)"
   ]
  },
  {
   "cell_type": "code",
   "execution_count": null,
   "id": "9499e8b0-1333-4bfb-8cab-8cbda0f9e44e",
   "metadata": {},
   "outputs": [],
   "source": []
  },
  {
   "cell_type": "code",
   "execution_count": null,
   "id": "12f8e46f-f8cb-4f3f-9df4-043a6bd5c6a7",
   "metadata": {},
   "outputs": [],
   "source": []
  }
 ],
 "metadata": {
  "kernelspec": {
   "display_name": "Python 3 (ipykernel)",
   "language": "python",
   "name": "python3"
  },
  "language_info": {
   "codemirror_mode": {
    "name": "ipython",
    "version": 3
   },
   "file_extension": ".py",
   "mimetype": "text/x-python",
   "name": "python",
   "nbconvert_exporter": "python",
   "pygments_lexer": "ipython3",
   "version": "3.8.19"
  }
 },
 "nbformat": 4,
 "nbformat_minor": 5
}
