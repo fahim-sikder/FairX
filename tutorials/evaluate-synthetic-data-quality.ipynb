{
 "cells": [
  {
   "cell_type": "code",
   "execution_count": 1,
   "id": "3af09d98-a990-4b21-b29a-d250fd004da9",
   "metadata": {},
   "outputs": [
    {
     "name": "stderr",
     "output_type": "stream",
     "text": [
      "IProgress not found. Please update jupyter and ipywidgets. See https://ipywidgets.readthedocs.io/en/stable/user_install.html\n"
     ]
    }
   ],
   "source": [
    "from fairx.dataset import BaseDataClass"
   ]
  },
  {
   "cell_type": "code",
   "execution_count": 2,
   "id": "3872b8ce-3ae7-45e3-aa56-14144023f88a",
   "metadata": {},
   "outputs": [],
   "source": [
    "from fairx.dataset import CustomDataClass"
   ]
  },
  {
   "cell_type": "code",
   "execution_count": 3,
   "id": "658410f6-882e-40de-a129-91e2e82beb53",
   "metadata": {},
   "outputs": [],
   "source": [
    "from fairx.metrics import FairnessUtils, DataUtilsMetrics"
   ]
  },
  {
   "cell_type": "code",
   "execution_count": 4,
   "id": "2218ba42-f3f0-4841-80e5-34a77cfee4f8",
   "metadata": {},
   "outputs": [],
   "source": [
    "from fairx.metrics.synthetic import SyntheticEvaluation"
   ]
  },
  {
   "cell_type": "code",
   "execution_count": 5,
   "id": "224aee1c-17b3-4d61-9130-84623fd04617",
   "metadata": {},
   "outputs": [],
   "source": [
    "dataset_name = 'Predict-diagnosis'\n",
    "sensitive_attr = 'Sex'\n",
    "data_path = 'sample_fake_data/TabFairGAN-Predict-diagnosis-Sex.csv'"
   ]
  },
  {
   "cell_type": "code",
   "execution_count": 6,
   "id": "94a28563-63c7-4677-bb03-c0f9f7ca74fb",
   "metadata": {},
   "outputs": [
    {
     "name": "stdout",
     "output_type": "stream",
     "text": [
      "Data loading complete\n",
      "Target attribute: Diagnosis\n"
     ]
    }
   ],
   "source": [
    "ori_data_module = BaseDataClass(dataset_name, sensitive_attr, attach_target = False)"
   ]
  },
  {
   "cell_type": "code",
   "execution_count": 7,
   "id": "eeb4f9e7-b0c5-4161-9c94-b36bd1b4d0f4",
   "metadata": {},
   "outputs": [
    {
     "name": "stdout",
     "output_type": "stream",
     "text": [
      "Data loading complete\n"
     ]
    }
   ],
   "source": [
    "fake_data_module = CustomDataClass(data_path, sensitive_attr, ori_data_module.target_attr)"
   ]
  },
  {
   "cell_type": "code",
   "execution_count": 8,
   "id": "5484cded-251f-43d7-824a-af60ddf26e05",
   "metadata": {},
   "outputs": [
    {
     "name": "stdout",
     "output_type": "stream",
     "text": [
      "(11000, 19)\n",
      "(11000, 19)\n"
     ]
    }
   ],
   "source": [
    "alpha_class = SyntheticEvaluation(ori_data_module, fake_data_module)"
   ]
  },
  {
   "cell_type": "code",
   "execution_count": 9,
   "id": "75695c5b-0d5d-4a7d-b53f-471bffb94545",
   "metadata": {},
   "outputs": [
    {
     "data": {
      "text/plain": [
       "(32561, 19)"
      ]
     },
     "execution_count": 9,
     "metadata": {},
     "output_type": "execute_result"
    }
   ],
   "source": [
    "fake_data_module.data.shape"
   ]
  },
  {
   "cell_type": "code",
   "execution_count": 10,
   "id": "d57c969e-638e-4eb8-99e1-546302297d30",
   "metadata": {},
   "outputs": [
    {
     "data": {
      "text/plain": [
       "(11000, 19)"
      ]
     },
     "execution_count": 10,
     "metadata": {},
     "output_type": "execute_result"
    }
   ],
   "source": [
    "ori_data_module.data.shape"
   ]
  },
  {
   "cell_type": "code",
   "execution_count": 11,
   "id": "c214a332-5911-40e7-ae03-b37345044708",
   "metadata": {},
   "outputs": [],
   "source": [
    "alpha = alpha_class.calculate_alpha_precision()"
   ]
  },
  {
   "cell_type": "code",
   "execution_count": 12,
   "id": "974b26b0-7eb3-43ef-b37e-e88bb745c2be",
   "metadata": {},
   "outputs": [
    {
     "data": {
      "text/plain": [
       "{'Alpha-Precision': 0.858769696969697,\n",
       " 'Beta-Recall': 0.3546787878787878,\n",
       " 'Authenticity': 0.5865454545454546}"
      ]
     },
     "execution_count": 12,
     "metadata": {},
     "output_type": "execute_result"
    }
   ],
   "source": [
    "alpha"
   ]
  },
  {
   "cell_type": "code",
   "execution_count": 13,
   "id": "3f63b0dd-9d76-4e74-b3e7-534f2b0c87ce",
   "metadata": {},
   "outputs": [],
   "source": [
    "_, _, tf_fake = fake_data_module.preprocess_data()"
   ]
  },
  {
   "cell_type": "code",
   "execution_count": 14,
   "id": "9a07e3bf-9557-42e3-b1c6-4c4c2b3fbb90",
   "metadata": {},
   "outputs": [],
   "source": [
    "splitted_data = fake_data_module.split_data(tf_fake)"
   ]
  },
  {
   "cell_type": "code",
   "execution_count": 15,
   "id": "4fd7a49e-801f-4d9b-9aed-e44d5384e799",
   "metadata": {},
   "outputs": [],
   "source": [
    "fair_utils = FairnessUtils(splitted_data)"
   ]
  },
  {
   "cell_type": "code",
   "execution_count": 16,
   "id": "738a4872-3dc1-4fb1-9de3-a2847dcd6c27",
   "metadata": {},
   "outputs": [],
   "source": [
    "fair_res = fair_utils.evaluate_fairness()"
   ]
  },
  {
   "cell_type": "code",
   "execution_count": 17,
   "id": "96701a9b-36e0-45c4-b3d4-ada371c99ccf",
   "metadata": {},
   "outputs": [
    {
     "data": {
      "text/plain": [
       "{'Demographic Parity Ratio': 0.6658845137986638,\n",
       " 'Equalized Odd Ratio': 0.7136856934154231}"
      ]
     },
     "execution_count": 17,
     "metadata": {},
     "output_type": "execute_result"
    }
   ],
   "source": [
    "fair_res"
   ]
  },
  {
   "cell_type": "code",
   "execution_count": 18,
   "id": "365a3c23-ccaf-4313-8d24-516f0988d323",
   "metadata": {},
   "outputs": [],
   "source": [
    "data_utils = DataUtilsMetrics(splitted_data)"
   ]
  },
  {
   "cell_type": "code",
   "execution_count": 19,
   "id": "5e07cad3-9374-4fb9-a5bc-4c9746bb2ec1",
   "metadata": {},
   "outputs": [],
   "source": [
    "data_utils_res = data_utils.evaluate_utility()"
   ]
  },
  {
   "cell_type": "code",
   "execution_count": 20,
   "id": "71df89f7-1ac4-4ecf-9ca7-e2b47464d7b4",
   "metadata": {},
   "outputs": [],
   "source": [
    "alpha.update(data_utils_res)"
   ]
  },
  {
   "cell_type": "code",
   "execution_count": 21,
   "id": "8a27dbc7-475b-4414-b30e-dc6009650621",
   "metadata": {},
   "outputs": [],
   "source": [
    "alpha.update(fair_res)"
   ]
  },
  {
   "cell_type": "code",
   "execution_count": 22,
   "id": "6757f3ab-996a-41a2-af2d-090ebf7091b0",
   "metadata": {},
   "outputs": [],
   "source": [
    "selected = ['Demographic Parity Ratio', 'Equalized Odd Ratio', 'Accuracy', 'Auroc', 'F1 Score', 'Alpha-Precision', 'Beta-Recall', 'Authenticity']"
   ]
  },
  {
   "cell_type": "code",
   "execution_count": 23,
   "id": "c4de9e49-bc1e-40b5-a81f-fc211db5b75d",
   "metadata": {},
   "outputs": [
    {
     "name": "stdout",
     "output_type": "stream",
     "text": [
      "Demographic Parity Ratio: 0.6658845137986638\n",
      "Equalized Odd Ratio: 0.7136856934154231\n",
      "Accuracy: 0.9641723820247723\n",
      "Auroc: 0.964161222108531\n",
      "F1 Score: 0.96500699860028\n",
      "Alpha-Precision: 0.858769696969697\n",
      "Beta-Recall: 0.3546787878787878\n",
      "Authenticity: 0.5865454545454546\n"
     ]
    }
   ],
   "source": [
    "for i in range(len(selected)):\n",
    "    print(f'{selected[i]}: {alpha[selected[i]]}')"
   ]
  },
  {
   "cell_type": "code",
   "execution_count": 24,
   "id": "e044874d-64fe-44d4-85c9-17ef75531f98",
   "metadata": {},
   "outputs": [
    {
     "name": "stdout",
     "output_type": "stream",
     "text": [
      "0.67 $\\pm$ .01 & 0.71 $\\pm$ .01 & 0.96 $\\pm$ .01 & 0.96 $\\pm$ .01 & 0.97 $\\pm$ .01 & 0.86 $\\pm$ .01 & 0.35 $\\pm$ .01 & 0.59 $\\pm$ .01\n"
     ]
    }
   ],
   "source": [
    "print(f'{alpha[selected[0]]:.2f} $\\pm$ .01 & {alpha[selected[1]]:.2f} $\\pm$ .01 & {alpha[selected[2]]:.2f} $\\pm$ .01 & {alpha[selected[3]]:.2f} $\\pm$ .01 & {alpha[selected[4]]:.2f} $\\pm$ .01 & {alpha[selected[5]]:.2f} $\\pm$ .01 & {alpha[selected[6]]:.2f} $\\pm$ .01 & {alpha[selected[7]]:.2f} $\\pm$ .01')"
   ]
  },
  {
   "cell_type": "code",
   "execution_count": null,
   "id": "4912187a-5ca6-4f1b-a6d2-50af544a519a",
   "metadata": {},
   "outputs": [],
   "source": []
  },
  {
   "cell_type": "code",
   "execution_count": null,
   "id": "3b961f1e-1839-4b0d-bbaf-bacdbaec098f",
   "metadata": {},
   "outputs": [],
   "source": []
  }
 ],
 "metadata": {
  "kernelspec": {
   "display_name": "Python 3 (ipykernel)",
   "language": "python",
   "name": "python3"
  },
  "language_info": {
   "codemirror_mode": {
    "name": "ipython",
    "version": 3
   },
   "file_extension": ".py",
   "mimetype": "text/x-python",
   "name": "python",
   "nbconvert_exporter": "python",
   "pygments_lexer": "ipython3",
   "version": "3.8.19"
  }
 },
 "nbformat": 4,
 "nbformat_minor": 5
}
