{
 "cells": [
  {
   "cell_type": "markdown",
   "id": "1a3a704d-a191-4fa0-beaa-f026b047ae8d",
   "metadata": {},
   "source": [
    "# Intersectional Bias Plotting\n",
    "\n",
    "Here, we will consider two sensitive attributes and will try to see the intesectional bias on the `Compass` dataset."
   ]
  },
  {
   "cell_type": "code",
   "execution_count": 1,
   "id": "3c000376-4ed7-47ea-b666-cd855a44082d",
   "metadata": {},
   "outputs": [
    {
     "name": "stderr",
     "output_type": "stream",
     "text": [
      "IProgress not found. Please update jupyter and ipywidgets. See https://ipywidgets.readthedocs.io/en/stable/user_install.html\n"
     ]
    }
   ],
   "source": [
    "from fairx.utils import *\n",
    "from fairx.dataset import BaseDataClass"
   ]
  },
  {
   "cell_type": "code",
   "execution_count": 2,
   "id": "5e495c76-530c-4dad-86c8-eb583a58f377",
   "metadata": {},
   "outputs": [],
   "source": [
    "dataset_name = 'Compass'\n",
    "sensitive_attr = 'sex'"
   ]
  },
  {
   "cell_type": "code",
   "execution_count": 3,
   "id": "142c7459-6f66-464a-a813-3f1e4afcbbc6",
   "metadata": {},
   "outputs": [
    {
     "name": "stdout",
     "output_type": "stream",
     "text": [
      "Data loading complete\n"
     ]
    }
   ],
   "source": [
    "data_module = BaseDataClass(dataset_name, sensitive_attr, True)"
   ]
  },
  {
   "cell_type": "code",
   "execution_count": 4,
   "id": "658167c9-d43a-478c-8d08-77e60c5ee482",
   "metadata": {},
   "outputs": [
    {
     "data": {
      "text/html": [
       "<div>\n",
       "<style scoped>\n",
       "    .dataframe tbody tr th:only-of-type {\n",
       "        vertical-align: middle;\n",
       "    }\n",
       "\n",
       "    .dataframe tbody tr th {\n",
       "        vertical-align: top;\n",
       "    }\n",
       "\n",
       "    .dataframe thead th {\n",
       "        text-align: right;\n",
       "    }\n",
       "</style>\n",
       "<table border=\"1\" class=\"dataframe\">\n",
       "  <thead>\n",
       "    <tr style=\"text-align: right;\">\n",
       "      <th></th>\n",
       "      <th>sex</th>\n",
       "      <th>age</th>\n",
       "      <th>juv_fel_count</th>\n",
       "      <th>juv_misd_count</th>\n",
       "      <th>juv_other_count</th>\n",
       "      <th>priors_count</th>\n",
       "      <th>two_year_recid</th>\n",
       "      <th>age_cat_25-45</th>\n",
       "      <th>age_cat_Greaterthan45</th>\n",
       "      <th>age_cat_Lessthan25</th>\n",
       "      <th>race_African-American</th>\n",
       "      <th>race_Caucasian</th>\n",
       "      <th>c_charge_degree_F</th>\n",
       "      <th>c_charge_degree_M</th>\n",
       "    </tr>\n",
       "  </thead>\n",
       "  <tbody>\n",
       "    <tr>\n",
       "      <th>0</th>\n",
       "      <td>1</td>\n",
       "      <td>34</td>\n",
       "      <td>0</td>\n",
       "      <td>0</td>\n",
       "      <td>0</td>\n",
       "      <td>0</td>\n",
       "      <td>1</td>\n",
       "      <td>1</td>\n",
       "      <td>0</td>\n",
       "      <td>0</td>\n",
       "      <td>1</td>\n",
       "      <td>0</td>\n",
       "      <td>1</td>\n",
       "      <td>0</td>\n",
       "    </tr>\n",
       "    <tr>\n",
       "      <th>1</th>\n",
       "      <td>1</td>\n",
       "      <td>24</td>\n",
       "      <td>0</td>\n",
       "      <td>0</td>\n",
       "      <td>1</td>\n",
       "      <td>4</td>\n",
       "      <td>1</td>\n",
       "      <td>0</td>\n",
       "      <td>0</td>\n",
       "      <td>1</td>\n",
       "      <td>1</td>\n",
       "      <td>0</td>\n",
       "      <td>1</td>\n",
       "      <td>0</td>\n",
       "    </tr>\n",
       "    <tr>\n",
       "      <th>2</th>\n",
       "      <td>1</td>\n",
       "      <td>41</td>\n",
       "      <td>0</td>\n",
       "      <td>0</td>\n",
       "      <td>0</td>\n",
       "      <td>14</td>\n",
       "      <td>1</td>\n",
       "      <td>1</td>\n",
       "      <td>0</td>\n",
       "      <td>0</td>\n",
       "      <td>0</td>\n",
       "      <td>1</td>\n",
       "      <td>1</td>\n",
       "      <td>0</td>\n",
       "    </tr>\n",
       "    <tr>\n",
       "      <th>3</th>\n",
       "      <td>0</td>\n",
       "      <td>39</td>\n",
       "      <td>0</td>\n",
       "      <td>0</td>\n",
       "      <td>0</td>\n",
       "      <td>0</td>\n",
       "      <td>0</td>\n",
       "      <td>1</td>\n",
       "      <td>0</td>\n",
       "      <td>0</td>\n",
       "      <td>0</td>\n",
       "      <td>1</td>\n",
       "      <td>0</td>\n",
       "      <td>1</td>\n",
       "    </tr>\n",
       "    <tr>\n",
       "      <th>4</th>\n",
       "      <td>1</td>\n",
       "      <td>27</td>\n",
       "      <td>0</td>\n",
       "      <td>0</td>\n",
       "      <td>0</td>\n",
       "      <td>0</td>\n",
       "      <td>0</td>\n",
       "      <td>1</td>\n",
       "      <td>0</td>\n",
       "      <td>0</td>\n",
       "      <td>0</td>\n",
       "      <td>1</td>\n",
       "      <td>1</td>\n",
       "      <td>0</td>\n",
       "    </tr>\n",
       "  </tbody>\n",
       "</table>\n",
       "</div>"
      ],
      "text/plain": [
       "  sex  age  juv_fel_count  juv_misd_count  juv_other_count  priors_count  \\\n",
       "0   1   34              0               0                0             0   \n",
       "1   1   24              0               0                1             4   \n",
       "2   1   41              0               0                0            14   \n",
       "3   0   39              0               0                0             0   \n",
       "4   1   27              0               0                0             0   \n",
       "\n",
       "  two_year_recid age_cat_25-45 age_cat_Greaterthan45 age_cat_Lessthan25  \\\n",
       "0              1             1                     0                  0   \n",
       "1              1             0                     0                  1   \n",
       "2              1             1                     0                  0   \n",
       "3              0             1                     0                  0   \n",
       "4              0             1                     0                  0   \n",
       "\n",
       "  race_African-American race_Caucasian  c_charge_degree_F  c_charge_degree_M  \n",
       "0                     1              0                  1                  0  \n",
       "1                     1              0                  1                  0  \n",
       "2                     0              1                  1                  0  \n",
       "3                     0              1                  0                  1  \n",
       "4                     0              1                  1                  0  "
      ]
     },
     "execution_count": 4,
     "metadata": {},
     "output_type": "execute_result"
    }
   ],
   "source": [
    "data_module.data.head()"
   ]
  },
  {
   "cell_type": "markdown",
   "id": "f89e8443-53a5-401f-89dc-d75c6c56388d",
   "metadata": {},
   "source": [
    "`plot_intersectional_bias()` takes four parameter, the data frame, sensitive attributes, the target variable and an optional save_fig parameter for the saving the plot."
   ]
  },
  {
   "cell_type": "code",
   "execution_count": 5,
   "id": "ed55af02-6e0d-4d22-b66c-8a9adbee3332",
   "metadata": {},
   "outputs": [
    {
     "data": {
      "image/png": "[encoded data removed]",
      "text/plain": [
       "<Figure size 600x600 with 4 Axes>"
      ]
     },
     "metadata": {},
     "output_type": "display_data"
    }
   ],
   "source": [
    "plot_intersectional_bias(data_module.data, ['sex','race_African-American'], 'two_year_recid', False)"
   ]
  },
  {
   "cell_type": "code",
   "execution_count": null,
   "id": "932b6a6e-0949-48b0-b078-a5080acce53d",
   "metadata": {},
   "outputs": [],
   "source": []
  }
 ],
 "metadata": {
  "kernelspec": {
   "display_name": "Python 3 (ipykernel)",
   "language": "python",
   "name": "python3"
  },
  "language_info": {
   "codemirror_mode": {
    "name": "ipython",
    "version": 3
   },
   "file_extension": ".py",
   "mimetype": "text/x-python",
   "name": "python",
   "nbconvert_exporter": "python",
   "pygments_lexer": "ipython3",
   "version": "3.8.19"
  }
 },
 "nbformat": 4,
 "nbformat_minor": 5
}
