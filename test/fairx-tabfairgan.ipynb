{
 "cells": [
  {
   "cell_type": "code",
   "execution_count": 1,
   "id": "876f6eac-a5c5-46bd-a9ca-d0c60678d8d5",
   "metadata": {},
   "outputs": [],
   "source": [
    "import fairx\n",
    "from fairx.models.inprocessing import TabFairGAN\n",
    "from fairx.dataset import BaseDataClass"
   ]
  },
  {
   "cell_type": "code",
   "execution_count": 2,
   "id": "b800d128-9c0f-4cdf-ae88-0760eb061157",
   "metadata": {},
   "outputs": [],
   "source": [
    "dataset_name = 'Adult-Income' # Compass or Adult-Income\n",
    "sensitive_attr = 'sex'"
   ]
  },
  {
   "cell_type": "code",
   "execution_count": 3,
   "id": "9ee9797f-6b64-4718-8da5-aa33e0970aad",
   "metadata": {},
   "outputs": [
    {
     "name": "stdout",
     "output_type": "stream",
     "text": [
      "Data loading complete\n"
     ]
    }
   ],
   "source": [
    "data_module = BaseDataClass(dataset_name, sensitive_attr, True)"
   ]
  },
  {
   "cell_type": "code",
   "execution_count": 4,
   "id": "6da0aca9-a887-4109-a9e4-ea9a489418db",
   "metadata": {},
   "outputs": [],
   "source": [
    "under_prev = 'Female'\n",
    "y_desire = '>50K'"
   ]
  },
  {
   "cell_type": "code",
   "execution_count": 5,
   "id": "42a6f0ed-5a5f-484a-b4d4-b32632f8c10c",
   "metadata": {},
   "outputs": [],
   "source": [
    "tabfairgan = TabFairGAN(under_prev, y_desire)"
   ]
  },
  {
   "cell_type": "code",
   "execution_count": 6,
   "id": "15e5eddc-bcff-494e-8853-d0505cad0c58",
   "metadata": {},
   "outputs": [
    {
     "name": "stdout",
     "output_type": "stream",
     "text": [
      "epoch 1\n",
      "training for accuracy\n",
      "epoch 2\n",
      "training for accuracy\n",
      "epoch 3\n",
      "training for accuracy\n",
      "epoch 4\n",
      "training for accuracy\n",
      "epoch 5\n",
      "training for accuracy\n",
      "epoch 6\n",
      "training for accuracy\n",
      "epoch 7\n",
      "training for accuracy\n",
      "epoch 8\n",
      "training for accuracy\n",
      "epoch 9\n",
      "training for accuracy\n",
      "epoch 10\n",
      "training for accuracy\n",
      "epoch 11\n",
      "training for accuracy\n",
      "epoch 12\n",
      "training for accuracy\n",
      "epoch 13\n",
      "training for accuracy\n",
      "epoch 14\n",
      "training for accuracy\n",
      "epoch 15\n",
      "training for accuracy\n",
      "epoch 16\n",
      "training for accuracy\n",
      "epoch 17\n",
      "training for accuracy\n",
      "epoch 18\n",
      "training for accuracy\n",
      "epoch 19\n",
      "training for accuracy\n",
      "epoch 20\n",
      "training for accuracy\n",
      "epoch 21\n",
      "training for accuracy\n",
      "epoch 22\n",
      "training for accuracy\n",
      "epoch 23\n",
      "training for accuracy\n",
      "epoch 24\n",
      "training for accuracy\n",
      "epoch 25\n",
      "training for accuracy\n",
      "epoch 26\n",
      "training for accuracy\n",
      "epoch 27\n",
      "training for accuracy\n",
      "epoch 28\n",
      "training for accuracy\n",
      "epoch 29\n",
      "training for accuracy\n",
      "epoch 30\n",
      "training for accuracy\n",
      "epoch 31\n",
      "training for accuracy\n",
      "epoch 32\n",
      "training for accuracy\n",
      "epoch 33\n",
      "training for accuracy\n",
      "epoch 34\n",
      "training for accuracy\n",
      "epoch 35\n",
      "training for accuracy\n",
      "epoch 36\n",
      "training for accuracy\n",
      "epoch 37\n",
      "training for accuracy\n",
      "epoch 38\n",
      "training for accuracy\n",
      "epoch 39\n",
      "training for accuracy\n",
      "epoch 40\n",
      "training for accuracy\n",
      "epoch 41\n",
      "training for fairness\n",
      "epoch 42\n",
      "training for fairness\n",
      "epoch 43\n",
      "training for fairness\n",
      "epoch 44\n",
      "training for fairness\n",
      "epoch 45\n",
      "training for fairness\n",
      "epoch 46\n",
      "training for fairness\n",
      "epoch 47\n",
      "training for fairness\n",
      "epoch 48\n",
      "training for fairness\n",
      "epoch 49\n",
      "training for fairness\n",
      "epoch 50\n",
      "training for fairness\n",
      "Training Complete!\n"
     ]
    }
   ],
   "source": [
    "tabfairgan.fit(data_module, batch_size = 256, epochs = 50)"
   ]
  },
  {
   "cell_type": "code",
   "execution_count": null,
   "id": "61bd514b-691a-45f1-8c40-104a7e11f4fb",
   "metadata": {},
   "outputs": [],
   "source": []
  }
 ],
 "metadata": {
  "kernelspec": {
   "display_name": "Python 3 (ipykernel)",
   "language": "python",
   "name": "python3"
  },
  "language_info": {
   "codemirror_mode": {
    "name": "ipython",
    "version": 3
   },
   "file_extension": ".py",
   "mimetype": "text/x-python",
   "name": "python",
   "nbconvert_exporter": "python",
   "pygments_lexer": "ipython3",
   "version": "3.8.19"
  }
 },
 "nbformat": 4,
 "nbformat_minor": 5
}
