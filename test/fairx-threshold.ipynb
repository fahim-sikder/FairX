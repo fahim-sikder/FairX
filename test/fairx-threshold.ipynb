{
 "cells": [
  {
   "cell_type": "code",
   "execution_count": 1,
   "id": "12f59aea-1abf-4ecc-8c29-52e7219026d3",
   "metadata": {},
   "outputs": [],
   "source": [
    "import fairx"
   ]
  },
  {
   "cell_type": "code",
   "execution_count": 2,
   "id": "61c8c3ea-b1e2-4301-aa88-a5e4beab4fb1",
   "metadata": {},
   "outputs": [],
   "source": [
    "from fairx.Models import ThresholdAlgorithm"
   ]
  },
  {
   "cell_type": "code",
   "execution_count": 3,
   "id": "77a07832-b9a1-42a0-9b1d-045859bfdf0b",
   "metadata": {},
   "outputs": [],
   "source": [
    "from fairx.DataLoader import BaseDataClass"
   ]
  },
  {
   "cell_type": "code",
   "execution_count": 4,
   "id": "4be5cc58-b2a6-4d10-afb0-b577b5ce84c4",
   "metadata": {},
   "outputs": [],
   "source": [
    "dataset_name = 'Compass' # Compass or Adult-Income\n",
    "sensitive_attr = 'sex'"
   ]
  },
  {
   "cell_type": "code",
   "execution_count": 5,
   "id": "3bafe8da-bb3d-4c03-9a4d-7e1acd1c004a",
   "metadata": {},
   "outputs": [
    {
     "name": "stdout",
     "output_type": "stream",
     "text": [
      "Data loading complete\n"
     ]
    }
   ],
   "source": [
    "data_module = BaseDataClass(dataset_name, sensitive_attr, False)"
   ]
  },
  {
   "cell_type": "code",
   "execution_count": 6,
   "id": "1a078eba-a667-4d3a-9fc3-7afaa840fdf8",
   "metadata": {},
   "outputs": [],
   "source": [
    "tf_data = data_module.preprocess_data()"
   ]
  },
  {
   "cell_type": "code",
   "execution_count": 7,
   "id": "4d6bd24f-28fd-4b41-9e2a-29624f131b4f",
   "metadata": {},
   "outputs": [],
   "source": [
    "splitted_data = data_module.split_data(tf_data)"
   ]
  },
  {
   "cell_type": "code",
   "execution_count": 8,
   "id": "451961af-9812-4e2a-bfad-ebf2a33d64b5",
   "metadata": {},
   "outputs": [],
   "source": [
    "model = ThresholdAlgorithm()"
   ]
  },
  {
   "cell_type": "code",
   "execution_count": 9,
   "id": "29908c70-e948-44ed-ba52-c5aa33897f5f",
   "metadata": {},
   "outputs": [
    {
     "name": "stdout",
     "output_type": "stream",
     "text": [
      "Value of demographic parity ratio (before post-processing): 0.37\n",
      "Value of equal odds ratio (before post-processing): 0.28\n",
      "Value of demographic parity ratio (after post-processing): 0.93\n",
      "Value of equal odds ratio (after post-processing): 0.97\n"
     ]
    }
   ],
   "source": [
    "model.fit(splitted_data)"
   ]
  },
  {
   "cell_type": "code",
   "execution_count": null,
   "id": "20d891a7-8834-4313-8a63-8da3cc9365be",
   "metadata": {},
   "outputs": [],
   "source": []
  },
  {
   "cell_type": "code",
   "execution_count": null,
   "id": "31f1a0ce-1a7b-49eb-9cd4-871242599200",
   "metadata": {},
   "outputs": [],
   "source": []
  }
 ],
 "metadata": {
  "kernelspec": {
   "display_name": "Python 3 (ipykernel)",
   "language": "python",
   "name": "python3"
  },
  "language_info": {
   "codemirror_mode": {
    "name": "ipython",
    "version": 3
   },
   "file_extension": ".py",
   "mimetype": "text/x-python",
   "name": "python",
   "nbconvert_exporter": "python",
   "pygments_lexer": "ipython3",
   "version": "3.8.17"
  }
 },
 "nbformat": 4,
 "nbformat_minor": 5
}
