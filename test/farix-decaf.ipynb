{
 "cells": [
  {
   "cell_type": "code",
   "execution_count": null,
   "id": "8d5abb71-4e9c-416f-9516-c6fc7e37b57b",
   "metadata": {},
   "outputs": [],
   "source": [
    "import fairx\n",
    "from fairx.dataset import BaseDataClass\n",
    "from fairx.models.inprocessing import Decaf"
   ]
  },
  {
   "cell_type": "code",
   "execution_count": null,
   "id": "d125bd8b-2db2-4d18-aeb9-53bb41ee3e82",
   "metadata": {},
   "outputs": [],
   "source": [
    "dataset_name = 'Adult-Income' # Compass or Adult-Income\n",
    "sensitive_attr = 'sex'\n",
    "\n",
    "data_module = BaseDataClass(dataset_name, sensitive_attr, True)\n",
    "\n",
    "under_prev = 'Female'\n",
    "y_desire = '>50K'\n",
    "\n",
    "decaf = Decaf()"
   ]
  },
  {
   "cell_type": "code",
   "execution_count": null,
   "id": "95933c20-63ff-48f2-b9ab-92a9eb064031",
   "metadata": {},
   "outputs": [],
   "source": [
    "decaf.fit(data_module, batch_size = 2048)"
   ]
  },
  {
   "cell_type": "code",
   "execution_count": null,
   "id": "44de6db8-904e-4ec5-9efd-21b565830a68",
   "metadata": {},
   "outputs": [],
   "source": []
  }
 ],
 "metadata": {
  "kernelspec": {
   "display_name": "Python 3 (ipykernel)",
   "language": "python",
   "name": "python3"
  },
  "language_info": {
   "codemirror_mode": {
    "name": "ipython",
    "version": 3
   },
   "file_extension": ".py",
   "mimetype": "text/x-python",
   "name": "python",
   "nbconvert_exporter": "python",
   "pygments_lexer": "ipython3",
   "version": "3.8.19"
  }
 },
 "nbformat": 4,
 "nbformat_minor": 5
}
